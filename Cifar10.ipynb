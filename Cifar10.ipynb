{
 "cells": [
  {
   "cell_type": "code",
   "execution_count": 1,
   "id": "c12f308d",
   "metadata": {},
   "outputs": [
    {
     "name": "stderr",
     "output_type": "stream",
     "text": [
      "2023-05-11 23:34:45.530350: I tensorflow/core/platform/cpu_feature_guard.cc:193] This TensorFlow binary is optimized with oneAPI Deep Neural Network Library (oneDNN) to use the following CPU instructions in performance-critical operations:  AVX2 FMA\n",
      "To enable them in other operations, rebuild TensorFlow with the appropriate compiler flags.\n",
      "2023-05-11 23:34:45.623844: W tensorflow/compiler/xla/stream_executor/platform/default/dso_loader.cc:64] Could not load dynamic library 'libcudart.so.11.0'; dlerror: libcudart.so.11.0: cannot open shared object file: No such file or directory\n",
      "2023-05-11 23:34:45.623862: I tensorflow/compiler/xla/stream_executor/cuda/cudart_stub.cc:29] Ignore above cudart dlerror if you do not have a GPU set up on your machine.\n",
      "2023-05-11 23:34:46.202483: W tensorflow/compiler/xla/stream_executor/platform/default/dso_loader.cc:64] Could not load dynamic library 'libnvinfer.so.7'; dlerror: libnvinfer.so.7: cannot open shared object file: No such file or directory\n",
      "2023-05-11 23:34:46.202544: W tensorflow/compiler/xla/stream_executor/platform/default/dso_loader.cc:64] Could not load dynamic library 'libnvinfer_plugin.so.7'; dlerror: libnvinfer_plugin.so.7: cannot open shared object file: No such file or directory\n",
      "2023-05-11 23:34:46.202551: W tensorflow/compiler/tf2tensorrt/utils/py_utils.cc:38] TF-TRT Warning: Cannot dlopen some TensorRT libraries. If you would like to use Nvidia GPU with TensorRT, please make sure the missing libraries mentioned above are installed properly.\n"
     ]
    }
   ],
   "source": [
    "import numpy as np\n",
    "from sklearn.model_selection import train_test_split\n",
    "from sklearn.metrics import accuracy_score\n",
    "from pprint import pprint\n",
    "import autosklearn.classification\n",
    "from tensorflow.keras.datasets import cifar10\n"
   ]
  },
  {
   "cell_type": "markdown",
   "id": "9ca1d9ab",
   "metadata": {},
   "source": [
    "## Data Loading"
   ]
  },
  {
   "cell_type": "code",
   "execution_count": 16,
   "id": "2b27db47",
   "metadata": {},
   "outputs": [],
   "source": [
    "(X_train, y_train), (X_test, y_test) = cifar10.load_data()\n",
    "# Flatten the images\n",
    "X_train = X_train.reshape((X_train.shape[0], -1))\n",
    "X_test = X_test.reshape((X_test.shape[0], -1))\n",
    "# Normalize pixel values\n",
    "X_train = X_train / 255.0\n",
    "X_test = X_test / 255.0\n",
    "# Convert labels to 1D array\n",
    "y_train = y_train.ravel()\n",
    "y_test = y_test.ravel()"
   ]
  },
  {
   "cell_type": "markdown",
   "id": "afd961c6",
   "metadata": {},
   "source": [
    "## Build and fit a classifier"
   ]
  },
  {
   "cell_type": "code",
   "execution_count": 23,
   "id": "83ee576c",
   "metadata": {},
   "outputs": [
    {
     "name": "stdout",
     "output_type": "stream",
     "text": [
      "[WARNING] [2023-05-11 17:57:54,965:Client-AutoML(1):cifar10] /home/abdul/miniconda3/envs/detr/lib/python3.8/site-packages/autosklearn/util/data.py:464 UserWarning:Dataset too large for allocated memory 307.20000000000005MB, reduced the precision from float32 to <class 'numpy.float32'>\n",
      "[WARNING] [2023-05-11 17:57:55,041:Client-AutoML(1):cifar10] /home/abdul/miniconda3/envs/detr/lib/python3.8/site-packages/autosklearn/util/data.py:490 UserWarning:Dataset too large for allocated memory 307.20000000000005MB, reduced number of samples from 50000 to 26214.\n",
      "[WARNING] [2023-05-11 17:58:33,660:Client-EnsembleBuilder] No runs were available to build an ensemble from\n"
     ]
    },
    {
     "data": {
      "text/plain": [
       "AutoSklearnClassifier(ensemble_class=<class 'autosklearn.ensembles.ensemble_selection.EnsembleSelection'>,\n",
       "                      n_jobs=-1, per_run_time_limit=100,\n",
       "                      time_left_for_this_task=1000,\n",
       "                      tmp_folder='/tmp/autosklearn_classification_example_tmp')"
      ]
     },
     "execution_count": 23,
     "metadata": {},
     "output_type": "execute_result"
    }
   ],
   "source": [
    "\n",
    "automl = autosklearn.classification.AutoSklearnClassifier(\n",
    "    time_left_for_this_task=1000,\n",
    "    per_run_time_limit=100,\n",
    "    tmp_folder=\"/tmp/autosklearn_classification_example_tmp\",\n",
    "     n_jobs=-1\n",
    ")\n",
    "automl.fit(X_train, y_train, dataset_name=\"cifar10\")"
   ]
  },
  {
   "cell_type": "markdown",
   "id": "3d498be3",
   "metadata": {},
   "source": [
    "## View the models found by auto-sklearn"
   ]
  },
  {
   "cell_type": "code",
   "execution_count": 20,
   "id": "02956791",
   "metadata": {},
   "outputs": [
    {
     "name": "stdout",
     "output_type": "stream",
     "text": [
      "          rank  ensemble_weight type      cost   duration\n",
      "model_id                                                 \n",
      "149          1             0.02  lda  0.600277  16.079427\n",
      "177          2             0.22  lda  0.600855  21.823135\n",
      "162          3             0.12  lda  0.601549  14.877579\n",
      "203          4             0.04  lda  0.602474  17.971540\n",
      "156          5             0.12  lda  0.602589  14.541234\n",
      "215          6             0.06  lda  0.602705  18.554503\n",
      "153          7             0.04  lda  0.604554  23.647570\n",
      "171          8             0.02  lda  0.604554  20.862972\n",
      "145          9             0.04  lda  0.605942  23.822584\n",
      "216         10             0.02  lda  0.606519  14.271788\n",
      "196         11             0.02  lda  0.606751  23.061650\n",
      "125         12             0.06  lda  0.607097  14.450578\n",
      "158         13             0.02  lda  0.607444  12.832135\n",
      "222         14             0.20  lda  0.608600  11.247762\n"
     ]
    }
   ],
   "source": [
    "print(automl.leaderboard())"
   ]
  },
  {
   "cell_type": "markdown",
   "id": "6660dd25",
   "metadata": {},
   "source": [
    "## Print the final ensemble constructed by auto-sklearn"
   ]
  },
  {
   "cell_type": "code",
   "execution_count": 21,
   "id": "d779da10",
   "metadata": {},
   "outputs": [
    {
     "name": "stdout",
     "output_type": "stream",
     "text": [
      "{   125: {   'balancing': Balancing(random_state=1, strategy='weighting'),\n",
      "             'classifier': <autosklearn.pipeline.components.classification.ClassifierChoice object at 0x7f40e9bd0280>,\n",
      "             'cost': 0.6070974453820368,\n",
      "             'data_preprocessor': <autosklearn.pipeline.components.data_preprocessing.DataPreprocessorChoice object at 0x7f417b6bb850>,\n",
      "             'ensemble_weight': 0.06,\n",
      "             'feature_preprocessor': <autosklearn.pipeline.components.feature_preprocessing.FeaturePreprocessorChoice object at 0x7f4130923a00>,\n",
      "             'model_id': 125,\n",
      "             'rank': 1,\n",
      "             'sklearn_classifier': LinearDiscriminantAnalysis(shrinkage=0.47991851861431317, solver='lsqr',\n",
      "                           tol=0.0014306822597258818)},\n",
      "    145: {   'balancing': Balancing(random_state=1, strategy='weighting'),\n",
      "             'classifier': <autosklearn.pipeline.components.classification.ClassifierChoice object at 0x7f410ff0f070>,\n",
      "             'cost': 0.6059415096520633,\n",
      "             'data_preprocessor': <autosklearn.pipeline.components.data_preprocessing.DataPreprocessorChoice object at 0x7f417c8b6d90>,\n",
      "             'ensemble_weight': 0.04,\n",
      "             'feature_preprocessor': <autosklearn.pipeline.components.feature_preprocessing.FeaturePreprocessorChoice object at 0x7f410d1509d0>,\n",
      "             'model_id': 145,\n",
      "             'rank': 2,\n",
      "             'sklearn_classifier': LinearDiscriminantAnalysis(shrinkage=0.4021839118018645, solver='lsqr',\n",
      "                           tol=0.00011095404730998997)},\n",
      "    149: {   'balancing': Balancing(random_state=1, strategy='weighting'),\n",
      "             'classifier': <autosklearn.pipeline.components.classification.ClassifierChoice object at 0x7f417babbeb0>,\n",
      "             'cost': 0.6002774245751936,\n",
      "             'data_preprocessor': <autosklearn.pipeline.components.data_preprocessing.DataPreprocessorChoice object at 0x7f410f52b520>,\n",
      "             'ensemble_weight': 0.02,\n",
      "             'feature_preprocessor': <autosklearn.pipeline.components.feature_preprocessing.FeaturePreprocessorChoice object at 0x7f40f0ad2a60>,\n",
      "             'model_id': 149,\n",
      "             'rank': 3,\n",
      "             'sklearn_classifier': LinearDiscriminantAnalysis(shrinkage=0.22021865107513455, solver='lsqr',\n",
      "                           tol=0.0006748626881374726)},\n",
      "    153: {   'balancing': Balancing(random_state=1, strategy='weighting'),\n",
      "             'classifier': <autosklearn.pipeline.components.classification.ClassifierChoice object at 0x7f410e32d8b0>,\n",
      "             'cost': 0.6045543867760952,\n",
      "             'data_preprocessor': <autosklearn.pipeline.components.data_preprocessing.DataPreprocessorChoice object at 0x7f417c892c40>,\n",
      "             'ensemble_weight': 0.04,\n",
      "             'feature_preprocessor': <autosklearn.pipeline.components.feature_preprocessing.FeaturePreprocessorChoice object at 0x7f410e4ac9a0>,\n",
      "             'model_id': 153,\n",
      "             'rank': 4,\n",
      "             'sklearn_classifier': LinearDiscriminantAnalysis(shrinkage=0.3670869231154076, solver='lsqr',\n",
      "                           tol=0.00029180625879613863)},\n",
      "    156: {   'balancing': Balancing(random_state=1, strategy='weighting'),\n",
      "             'classifier': <autosklearn.pipeline.components.classification.ClassifierChoice object at 0x7f4130236cd0>,\n",
      "             'cost': 0.6025892960351404,\n",
      "             'data_preprocessor': <autosklearn.pipeline.components.data_preprocessing.DataPreprocessorChoice object at 0x7f410ff2f940>,\n",
      "             'ensemble_weight': 0.12,\n",
      "             'feature_preprocessor': <autosklearn.pipeline.components.feature_preprocessing.FeaturePreprocessorChoice object at 0x7f40f0f0bd00>,\n",
      "             'model_id': 156,\n",
      "             'rank': 5,\n",
      "             'sklearn_classifier': LinearDiscriminantAnalysis(shrinkage=0.15276789221077042, solver='lsqr',\n",
      "                           tol=0.000623917259539739)},\n",
      "    158: {   'balancing': Balancing(random_state=1),\n",
      "             'classifier': <autosklearn.pipeline.components.classification.ClassifierChoice object at 0x7f417c893040>,\n",
      "             'cost': 0.6074442261010288,\n",
      "             'data_preprocessor': <autosklearn.pipeline.components.data_preprocessing.DataPreprocessorChoice object at 0x7f417c8c3d60>,\n",
      "             'ensemble_weight': 0.02,\n",
      "             'feature_preprocessor': <autosklearn.pipeline.components.feature_preprocessing.FeaturePreprocessorChoice object at 0x7f40eb73cbb0>,\n",
      "             'model_id': 158,\n",
      "             'rank': 6,\n",
      "             'sklearn_classifier': LinearDiscriminantAnalysis(shrinkage=0.2142719055033466, solver='lsqr',\n",
      "                           tol=1.6626698005009653e-05)},\n",
      "    162: {   'balancing': Balancing(random_state=1),\n",
      "             'classifier': <autosklearn.pipeline.components.classification.ClassifierChoice object at 0x7f4110cc5760>,\n",
      "             'cost': 0.6015489538781644,\n",
      "             'data_preprocessor': <autosklearn.pipeline.components.data_preprocessing.DataPreprocessorChoice object at 0x7f4110c1fbe0>,\n",
      "             'ensemble_weight': 0.12,\n",
      "             'feature_preprocessor': <autosklearn.pipeline.components.feature_preprocessing.FeaturePreprocessorChoice object at 0x7f41101352b0>,\n",
      "             'model_id': 162,\n",
      "             'rank': 7,\n",
      "             'sklearn_classifier': LinearDiscriminantAnalysis(shrinkage=0.10778524275729333, solver='lsqr',\n",
      "                           tol=0.000502068600752306)},\n",
      "    171: {   'balancing': Balancing(random_state=1, strategy='weighting'),\n",
      "             'classifier': <autosklearn.pipeline.components.classification.ClassifierChoice object at 0x7f40f841bd90>,\n",
      "             'cost': 0.6045543867760952,\n",
      "             'data_preprocessor': <autosklearn.pipeline.components.data_preprocessing.DataPreprocessorChoice object at 0x7f4130761880>,\n",
      "             'ensemble_weight': 0.02,\n",
      "             'feature_preprocessor': <autosklearn.pipeline.components.feature_preprocessing.FeaturePreprocessorChoice object at 0x7f410f0fcb80>,\n",
      "             'model_id': 171,\n",
      "             'rank': 8,\n",
      "             'sklearn_classifier': LinearDiscriminantAnalysis(shrinkage=0.209536476586653, solver='lsqr',\n",
      "                           tol=0.0019815942424797465)},\n",
      "    177: {   'balancing': Balancing(random_state=1, strategy='weighting'),\n",
      "             'classifier': <autosklearn.pipeline.components.classification.ClassifierChoice object at 0x7f40e9bc6ee0>,\n",
      "             'cost': 0.6008553924401803,\n",
      "             'data_preprocessor': <autosklearn.pipeline.components.data_preprocessing.DataPreprocessorChoice object at 0x7f410f44d070>,\n",
      "             'ensemble_weight': 0.22,\n",
      "             'feature_preprocessor': <autosklearn.pipeline.components.feature_preprocessing.FeaturePreprocessorChoice object at 0x7f40e5f043d0>,\n",
      "             'model_id': 177,\n",
      "             'rank': 9,\n",
      "             'sklearn_classifier': LinearDiscriminantAnalysis(shrinkage=0.21853231682058832, solver='lsqr',\n",
      "                           tol=0.0005979346791415623)},\n",
      "    196: {   'balancing': Balancing(random_state=1, strategy='weighting'),\n",
      "             'classifier': <autosklearn.pipeline.components.classification.ClassifierChoice object at 0x7f410d145370>,\n",
      "             'cost': 0.6067506646630447,\n",
      "             'data_preprocessor': <autosklearn.pipeline.components.data_preprocessing.DataPreprocessorChoice object at 0x7f40f8821fa0>,\n",
      "             'ensemble_weight': 0.02,\n",
      "             'feature_preprocessor': <autosklearn.pipeline.components.feature_preprocessing.FeaturePreprocessorChoice object at 0x7f40eb0623d0>,\n",
      "             'model_id': 196,\n",
      "             'rank': 10,\n",
      "             'sklearn_classifier': LinearDiscriminantAnalysis(shrinkage=0.15140016738563936, solver='lsqr',\n",
      "                           tol=0.0005138813520340442)},\n",
      "    203: {   'balancing': Balancing(random_state=1, strategy='weighting'),\n",
      "             'classifier': <autosklearn.pipeline.components.classification.ClassifierChoice object at 0x7f4110bb2760>,\n",
      "             'cost': 0.6024737024621432,\n",
      "             'data_preprocessor': <autosklearn.pipeline.components.data_preprocessing.DataPreprocessorChoice object at 0x7f40f8821e50>,\n",
      "             'ensemble_weight': 0.04,\n",
      "             'feature_preprocessor': <autosklearn.pipeline.components.feature_preprocessing.FeaturePreprocessorChoice object at 0x7f40e93d9e20>,\n",
      "             'model_id': 203,\n",
      "             'rank': 11,\n",
      "             'sklearn_classifier': LinearDiscriminantAnalysis(shrinkage=0.18024561132657346, solver='lsqr',\n",
      "                           tol=0.0009187800651403871)},\n",
      "    215: {   'balancing': Balancing(random_state=1),\n",
      "             'classifier': <autosklearn.pipeline.components.classification.ClassifierChoice object at 0x7f40ebe295e0>,\n",
      "             'cost': 0.6027048896081377,\n",
      "             'data_preprocessor': <autosklearn.pipeline.components.data_preprocessing.DataPreprocessorChoice object at 0x7f40f857df70>,\n",
      "             'ensemble_weight': 0.06,\n",
      "             'feature_preprocessor': <autosklearn.pipeline.components.feature_preprocessing.FeaturePreprocessorChoice object at 0x7f417c89c790>,\n",
      "             'model_id': 215,\n",
      "             'rank': 12,\n",
      "             'sklearn_classifier': LinearDiscriminantAnalysis(shrinkage=0.17619907736728274, solver='lsqr',\n",
      "                           tol=0.0005549106585295194)},\n",
      "    216: {   'balancing': Balancing(random_state=1, strategy='weighting'),\n",
      "             'classifier': <autosklearn.pipeline.components.classification.ClassifierChoice object at 0x7f410fabb700>,\n",
      "             'cost': 0.60651947751705,\n",
      "             'data_preprocessor': <autosklearn.pipeline.components.data_preprocessing.DataPreprocessorChoice object at 0x7f413058dfa0>,\n",
      "             'ensemble_weight': 0.02,\n",
      "             'feature_preprocessor': <autosklearn.pipeline.components.feature_preprocessing.FeaturePreprocessorChoice object at 0x7f4130b81a00>,\n",
      "             'model_id': 216,\n",
      "             'rank': 13,\n",
      "             'sklearn_classifier': LinearDiscriminantAnalysis(shrinkage=0.06878746203266758, solver='lsqr',\n",
      "                           tol=0.0007970323774397739)},\n",
      "    222: {   'balancing': Balancing(random_state=1),\n",
      "             'classifier': <autosklearn.pipeline.components.classification.ClassifierChoice object at 0x7f417c8a82e0>,\n",
      "             'cost': 0.6086001618310022,\n",
      "             'data_preprocessor': <autosklearn.pipeline.components.data_preprocessing.DataPreprocessorChoice object at 0x7f41e8a338b0>,\n",
      "             'ensemble_weight': 0.2,\n",
      "             'feature_preprocessor': <autosklearn.pipeline.components.feature_preprocessing.FeaturePreprocessorChoice object at 0x7f410e3c5340>,\n",
      "             'model_id': 222,\n",
      "             'rank': 14,\n",
      "             'sklearn_classifier': LinearDiscriminantAnalysis(shrinkage=0.1771654402505275, solver='lsqr',\n",
      "                           tol=0.030333227020955537)}}\n"
     ]
    }
   ],
   "source": [
    "pprint(automl.show_models(), indent=4)"
   ]
  },
  {
   "cell_type": "markdown",
   "id": "9db4c13f",
   "metadata": {},
   "source": [
    "## Get the Score of the final ensemble"
   ]
  },
  {
   "cell_type": "code",
   "execution_count": 25,
   "id": "6af75931",
   "metadata": {},
   "outputs": [
    {
     "name": "stdout",
     "output_type": "stream",
     "text": [
      "Accuracy score: 0.4645\n"
     ]
    }
   ],
   "source": [
    "predictions = automl.predict(X_test)\n",
    "print(\"Accuracy score:\", accuracy_score(y_test, predictions)) "
   ]
  },
  {
   "cell_type": "code",
   "execution_count": null,
   "id": "b7f1acd0",
   "metadata": {},
   "outputs": [],
   "source": [
    "\n"
   ]
  },
  {
   "cell_type": "code",
   "execution_count": null,
   "id": "846067f6",
   "metadata": {},
   "outputs": [],
   "source": []
  }
 ],
 "metadata": {
  "kernelspec": {
   "display_name": "Python 3 (ipykernel)",
   "language": "python",
   "name": "python3"
  },
  "language_info": {
   "codemirror_mode": {
    "name": "ipython",
    "version": 3
   },
   "file_extension": ".py",
   "mimetype": "text/x-python",
   "name": "python",
   "nbconvert_exporter": "python",
   "pygments_lexer": "ipython3",
   "version": "3.8.0"
  }
 },
 "nbformat": 4,
 "nbformat_minor": 5
}
